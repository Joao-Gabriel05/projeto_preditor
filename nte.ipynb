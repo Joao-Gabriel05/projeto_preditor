{
 "cells": [
  {
   "cell_type": "code",
   "execution_count": 20,
   "metadata": {},
   "outputs": [],
   "source": [
    "import yfinance as yf\n",
    "import numpy as np\n",
    "from autograd import grad\n",
    "import autograd.numpy as np_\n"
   ]
  },
  {
   "cell_type": "code",
   "execution_count": 78,
   "metadata": {},
   "outputs": [],
   "source": [
    "def accuracy(y_test, y_est):\n",
    "    return np.mean(np.sign(y_test)==np.sign(y_est))"
   ]
  },
  {
   "cell_type": "code",
   "execution_count": 68,
   "metadata": {},
   "outputs": [],
   "source": [
    "def erro(parametros):\n",
    "    w,x,y=parametros\n",
    "    y_est = w*x\n",
    "    mse = (y-y_est)**2\n",
    "    return(np_.mean(mse))"
   ]
  },
  {
   "cell_type": "code",
   "execution_count": 62,
   "metadata": {},
   "outputs": [],
   "source": [
    "def normalizar(dados):\n",
    "    # Normaliza os dados para a faixa [0, 1]\n",
    "    return (dados - np.min(dados)) / (np.max(dados) - np.min(dados))"
   ]
  },
  {
   "cell_type": "code",
   "execution_count": 77,
   "metadata": {},
   "outputs": [
    {
     "name": "stdout",
     "output_type": "stream",
     "text": [
      "94.88083812634595\n",
      "0.9973544973544973\n",
      "0.9973544973544973\n"
     ]
    }
   ],
   "source": [
    "\n",
    "def execute(ticker, periodo):\n",
    "    acao = yf.Ticker(ticker)\n",
    "    hist = acao.history(period=periodo)\n",
    "    \n",
    "    hist_train = hist[:int(len(hist) * 0.7)]\n",
    "    hist_test = hist[int(len(hist) * 0.7):]\n",
    "    alpha = 0.01\n",
    "    \n",
    "    hist_train = hist_train[['Open', 'Close']].dropna()\n",
    "    \n",
    "    X_train = hist_train['Open'].values\n",
    "    Y_train = hist_train['Close'].values\n",
    "\n",
    "    X_test = hist_test['Open'].values\n",
    "    Y_test = hist_test['Close'].values\n",
    "    \n",
    "    # Normalizando X_train e Y_train\n",
    "    X_train = normalizar(X_train)\n",
    "    Y_train = normalizar(Y_train)\n",
    "\n",
    "    X_test= normalizar(X_test)\n",
    "    Y_test = normalizar(Y_test)\n",
    "    \n",
    "    X_train = np.expand_dims(X_test, axis=0)\n",
    "    Y_train = np.expand_dims(Y_test, axis=0)\n",
    "\n",
    "    X_test = np.expand_dims(X_test, axis=0)\n",
    "    Y_test = np.expand_dims(Y_test, axis=0)\n",
    "    \n",
    "    w = 100.0 \n",
    "    \n",
    "    for n in range(10):\n",
    "        g = grad(erro)  \n",
    "        grad_ = g((w, X_train, Y_train))  \n",
    "        w -= alpha * grad_[0] \n",
    "    print(w)\n",
    "    y_est = w*X_test\n",
    "    acuracia = accuracy(Y_test,y_est)\n",
    "    print(acuracia)\n",
    "    return acuracia\n",
    "\n",
    "w_final = execute(\"MSFT\", \"10y\")\n",
    "print(w_final)"
   ]
  }
 ],
 "metadata": {
  "kernelspec": {
   "display_name": "Python 3",
   "language": "python",
   "name": "python3"
  },
  "language_info": {
   "codemirror_mode": {
    "name": "ipython",
    "version": 3
   },
   "file_extension": ".py",
   "mimetype": "text/x-python",
   "name": "python",
   "nbconvert_exporter": "python",
   "pygments_lexer": "ipython3",
   "version": "3.9.6"
  },
  "orig_nbformat": 4
 },
 "nbformat": 4,
 "nbformat_minor": 2
}
