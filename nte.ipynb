{
 "cells": [
  {
   "cell_type": "code",
   "execution_count": 1,
   "metadata": {},
   "outputs": [
    {
     "name": "stderr",
     "output_type": "stream",
     "text": [
      "/Users/jgfaraco/Library/Python/3.9/lib/python/site-packages/urllib3/__init__.py:34: NotOpenSSLWarning: urllib3 v2 only supports OpenSSL 1.1.1+, currently the 'ssl' module is compiled with 'LibreSSL 2.8.3'. See: https://github.com/urllib3/urllib3/issues/3020\n",
      "  warnings.warn(\n"
     ]
    }
   ],
   "source": [
    "import yfinance as yf\n",
    "import numpy as np\n",
    "from autograd import grad\n",
    "import autograd.numpy as np_\n"
   ]
  },
  {
   "cell_type": "code",
   "execution_count": 47,
   "metadata": {},
   "outputs": [],
   "source": [
    "def accuracy(y_test, y_est):\n",
    "    return np.mean((y_est-y_test)**2)"
   ]
  },
  {
   "cell_type": "code",
   "execution_count": 45,
   "metadata": {},
   "outputs": [],
   "source": [
    "def erro(parametros):\n",
    "    w,x,y=parametros\n",
    "    y_est = x@w.T\n",
    "    mse = (y-y_est)**2\n",
    "    return(np_.mean(mse))"
   ]
  },
  {
   "cell_type": "code",
   "execution_count": 46,
   "metadata": {},
   "outputs": [],
   "source": [
    "def plot_erro(parametros):\n",
    "    w,x,y=parametros\n",
    "    y_est = x@w.T\n",
    "    mse = (y-y_est)**2\n",
    "    return(np_.mean(mse))"
   ]
  },
  {
   "cell_type": "code",
   "execution_count": 48,
   "metadata": {},
   "outputs": [],
   "source": [
    "def normalizar(dados):\n",
    "    # Normaliza os dados para a faixa [0, 1]\n",
    "    return (dados - np.min(dados)) / (np.max(dados) - np.min(dados))"
   ]
  },
  {
   "cell_type": "code",
   "execution_count": 49,
   "metadata": {},
   "outputs": [],
   "source": [
    "def preparar_dados(data, window=5):\n",
    "    X, Y = [], []\n",
    "    for i in range(len(data) - window):\n",
    "        X.append(data[i:i + window])\n",
    "        Y.append(data[i + window])\n",
    "    return np.array(X), np.array(Y)"
   ]
  },
  {
   "cell_type": "code",
   "execution_count": 58,
   "metadata": {},
   "outputs": [
    {
     "name": "stdout",
     "output_type": "stream",
     "text": [
      "(1756, 5) (1756,) (5,)\n"
     ]
    }
   ],
   "source": [
    "\n",
    "\n",
    "\n",
    "def execute(ticker, periodo):\n",
    "    acao = yf.Ticker(ticker)\n",
    "    hist = acao.history(period=periodo)\n",
    "    \n",
    "    hist_train = hist[:int(len(hist) * 0.7)]\n",
    "    hist_test = hist[int(len(hist) * 0.7):]\n",
    "    alpha = 0.01\n",
    "    \n",
    "    hist_train = hist_train[['Close']].dropna()\n",
    "    hist_test = hist_test[['Close']].dropna()\n",
    "    \n",
    "\n",
    "    X_train, Y_train = preparar_dados(hist_train['Close'].values)\n",
    "    X_test, Y_test = preparar_dados(hist_test['Close'].values)\n",
    "    \n",
    "    X_train = normalizar(X_train)\n",
    "    Y_train = normalizar(Y_train)\n",
    "    X_test = normalizar(X_test)\n",
    "    Y_test = normalizar(Y_test)\n",
    "    w = np.random.rand(X_train.shape[1])\n",
    "    print(X_train.shape,Y_train.shape,w.shape)\n",
    "    list_erros=[]\n",
    "    for n in range(1000):  \n",
    "        g = grad(erro)\n",
    "        grad_ = g((w, X_train, Y_train))\n",
    "        erro_plot= plot_erro((w, X_train, Y_train))\n",
    "        list_erros.append(erro_plot)\n",
    "        w -= alpha * grad_[0]\n",
    "    \n",
    "    y_est =X_test@ w\n",
    "    acuracia = accuracy(Y_test, y_est)\n",
    "    return  list_erros\n",
    "\n",
    "erros=(execute(\"MSFT\", \"10y\"))\n",
    "\n",
    "\n"
   ]
  },
  {
   "cell_type": "code",
   "execution_count": 59,
   "metadata": {},
   "outputs": [
    {
     "data": {
      "text/plain": [
       "[<matplotlib.lines.Line2D at 0x1518f7370>]"
      ]
     },
     "execution_count": 59,
     "metadata": {},
     "output_type": "execute_result"
    },
    {
     "data": {
      "image/png": "[encoded data removed]",
      "text/plain": [
       "<Figure size 640x480 with 1 Axes>"
      ]
     },
     "metadata": {},
     "output_type": "display_data"
    }
   ],
   "source": [
    "import matplotlib.pyplot as plt\n",
    "plt.plot(erros)"
   ]
  }
 ],
 "metadata": {
  "kernelspec": {
   "display_name": "Python 3",
   "language": "python",
   "name": "python3"
  },
  "language_info": {
   "codemirror_mode": {
    "name": "ipython",
    "version": 3
   },
   "file_extension": ".py",
   "mimetype": "text/x-python",
   "name": "python",
   "nbconvert_exporter": "python",
   "pygments_lexer": "ipython3",
   "version": "3.9.6"
  },
  "orig_nbformat": 4
 },
 "nbformat": 4,
 "nbformat_minor": 2
}
